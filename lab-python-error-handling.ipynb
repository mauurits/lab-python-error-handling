{
 "cells": [
  {
   "cell_type": "markdown",
   "id": "25d7736c-ba17-4aff-b6bb-66eba20fbf4e",
   "metadata": {},
   "source": [
    "# Lab | Error Handling"
   ]
  },
  {
   "cell_type": "markdown",
   "id": "bc99b386-7508-47a0-bcdb-d969deaf6c8b",
   "metadata": {},
   "source": [
    "## Exercise: Error Handling for Managing Customer Orders\n",
    "\n",
    "The implementation of your code for managing customer orders assumes that the user will always enter a valid input. \n",
    "\n",
    "For example, we could modify the `initialize_inventory` function to include error handling.\n",
    "   - If the user enters an invalid quantity (e.g., a negative value or a non-numeric value), display an error message and ask them to re-enter the quantity for that product.\n",
    "   - Use a try-except block to handle the error and continue prompting the user until a valid quantity is entered.\n",
    "\n",
    "```python\n",
    "# Step 1: Define the function for initializing the inventory with error handling\n",
    "def initialize_inventory(products):\n",
    "    inventory = {}\n",
    "    for product in products:\n",
    "        valid_quantity = False\n",
    "        while not valid_quantity:\n",
    "            try:\n",
    "                quantity = int(input(f\"Enter the quantity of {product}s available: \"))\n",
    "                if quantity < 0:\n",
    "                    raise ValueError(\"Invalid quantity! Please enter a non-negative value.\")\n",
    "                valid_quantity = True\n",
    "            except ValueError as error:\n",
    "                print(f\"Error: {error}\")\n",
    "        inventory[product] = quantity\n",
    "    return inventory\n",
    "\n",
    "# Or, in another way:\n",
    "\n",
    "def initialize_inventory(products):\n",
    "    inventory = {}\n",
    "    for product in products:\n",
    "        valid_input = False\n",
    "        while not valid_input:\n",
    "            try:\n",
    "                quantity = int(input(f\"Enter the quantity of {product}s available: \"))\n",
    "                if quantity >= 0:\n",
    "                    inventory[product] = quantity\n",
    "                    valid_input = True\n",
    "                else:\n",
    "                    print(\"Quantity cannot be negative. Please enter a valid quantity.\")\n",
    "            except ValueError:\n",
    "                print(\"Invalid input. Please enter a valid quantity.\")\n",
    "    return inventory\n",
    "```\n",
    "\n",
    "Let's enhance your code by implementing error handling to handle invalid inputs.\n",
    "\n",
    "Follow the steps below to complete the exercise:\n",
    "\n",
    "2. Modify the `calculate_total_price` function to include error handling.\n",
    "   - If the user enters an invalid price (e.g., a negative value or a non-numeric value), display an error message and ask them to re-enter the price for that product.\n",
    "   - Use a try-except block to handle the error and continue prompting the user until a valid price is entered.\n",
    "\n",
    "3. Modify the `get_customer_orders` function to include error handling.\n",
    "   - If the user enters an invalid number of orders (e.g., a negative value or a non-numeric value), display an error message and ask them to re-enter the number of orders.\n",
    "   - If the user enters an invalid product name (e.g., a product name that is not in the inventory), or that doesn't have stock available, display an error message and ask them to re-enter the product name. *Hint: you will need to pass inventory as a parameter*\n",
    "   - Use a try-except block to handle the error and continue prompting the user until a valid product name is entered.\n",
    "\n",
    "4. Test your code by running the program and deliberately entering invalid quantities and product names. Make sure the error handling mechanism works as expected.\n"
   ]
  },
  {
   "cell_type": "code",
   "execution_count": 18,
   "id": "3725bb88-431f-4fa9-9f44-beb9982e9ccb",
   "metadata": {},
   "outputs": [],
   "source": [
    "products = [\"t-shirt\", \"mug\", \"hat\", \"book\", \"keychain\"]"
   ]
  },
  {
   "cell_type": "code",
   "execution_count": 77,
   "id": "a63bb294-b8d4-4fb6-bf3c-454feac04b49",
   "metadata": {},
   "outputs": [],
   "source": [
    "def initialize_inventory(products):\n",
    "    inventory = {}\n",
    "    for product in products:\n",
    "        valid_quantity = False\n",
    "        while not valid_quantity:\n",
    "            try:\n",
    "                quantity = int(input(f\"Enter the quantity of {product}s available: \"))\n",
    "                if quantity < 0:\n",
    "                    raise ValueError(\"Invalid quantity! Please enter a non-negative value.\")\n",
    "                valid_quantity = True\n",
    "            except ValueError as error:\n",
    "                print(f\"Error: {error}\")\n",
    "        inventory[product] = quantity\n",
    "    return inventory"
   ]
  },
  {
   "cell_type": "code",
   "execution_count": 79,
   "id": "b7d1227d-beaf-4c71-b36b-4c5981652bd0",
   "metadata": {},
   "outputs": [],
   "source": [
    "def get_customer_orders(inventory):\n",
    "    print(inventory)\n",
    "    customer_order = set()\n",
    "    while True:\n",
    "        try:\n",
    "            user_choice = input(\"Please choose an item you would like to order from the above list: \").strip().lower()\n",
    "            if user_choice in inventory:\n",
    "                print(f\"Thanks, we've added {user_choice} to your order!\")\n",
    "                customer_order.add(user_choice)\n",
    "            else:\n",
    "                raise KeyError(\"Invalid entry! Please enter a product from the inventory.\")\n",
    "            continue_ordering = input(\"Would you like to order anything else? Type 'No' to exit: \").strip().lower()\n",
    "            if continue_ordering == \"no\":\n",
    "                print(\"Thanks for ordering with us! We'll get right onto it.\")\n",
    "                break\n",
    "            else:\n",
    "                print(\"Okay!\")\n",
    "        except KeyError as e:\n",
    "            print(e)\n",
    "\n",
    "    return customer_order"
   ]
  },
  {
   "cell_type": "code",
   "execution_count": 81,
   "id": "8714ad1e-f438-4c34-9f5a-626baf0a95c1",
   "metadata": {},
   "outputs": [],
   "source": [
    "def calculate_total_price(customer_order):\n",
    "    total_prices = {}\n",
    "    for product in customer_order:\n",
    "        valid_price = False\n",
    "        while not valid_price:\n",
    "            try:\n",
    "                price = int(input(f\"Enter the price of {product}: \"))\n",
    "                if price < 0:\n",
    "                    raise ValueError(\"Invalid price! Please enter a non-negative value.\")\n",
    "                valid_price = True\n",
    "            except ValueError as error:\n",
    "                print(f\"Error: {error}\")\n",
    "        \n",
    "        total_prices[product] = price\n",
    "    total_sum = sum(total_prices.values())\n",
    "    \n",
    "    return total_sum"
   ]
  },
  {
   "cell_type": "code",
   "execution_count": 83,
   "id": "bfad84dc-6d9e-4278-ae6a-32ba0348b062",
   "metadata": {},
   "outputs": [
    {
     "name": "stdin",
     "output_type": "stream",
     "text": [
      "Enter the quantity of t-shirts available:  55\n",
      "Enter the quantity of mugs available:  66\n",
      "Enter the quantity of hats available:  45\n",
      "Enter the quantity of books available:  85\n",
      "Enter the quantity of keychains available:  84\n"
     ]
    },
    {
     "name": "stdout",
     "output_type": "stream",
     "text": [
      "{'t-shirt': 55, 'mug': 66, 'hat': 45, 'book': 85, 'keychain': 84}\n"
     ]
    },
    {
     "name": "stdin",
     "output_type": "stream",
     "text": [
      "Please choose an item you would like to order from the above list:  book\n"
     ]
    },
    {
     "name": "stdout",
     "output_type": "stream",
     "text": [
      "Thanks, we've added book to your order!\n"
     ]
    },
    {
     "name": "stdin",
     "output_type": "stream",
     "text": [
      "Would you like to order anything else? Type 'No' to exit:  yes\n"
     ]
    },
    {
     "name": "stdout",
     "output_type": "stream",
     "text": [
      "Okay!\n"
     ]
    },
    {
     "name": "stdin",
     "output_type": "stream",
     "text": [
      "Please choose an item you would like to order from the above list:  banan\n"
     ]
    },
    {
     "name": "stdout",
     "output_type": "stream",
     "text": [
      "'Invalid entry! Please enter a product from the inventory.'\n"
     ]
    },
    {
     "name": "stdin",
     "output_type": "stream",
     "text": [
      "Please choose an item you would like to order from the above list:  hat\n"
     ]
    },
    {
     "name": "stdout",
     "output_type": "stream",
     "text": [
      "Thanks, we've added hat to your order!\n"
     ]
    },
    {
     "name": "stdin",
     "output_type": "stream",
     "text": [
      "Would you like to order anything else? Type 'No' to exit:  yes\n"
     ]
    },
    {
     "name": "stdout",
     "output_type": "stream",
     "text": [
      "Okay!\n"
     ]
    },
    {
     "name": "stdin",
     "output_type": "stream",
     "text": [
      "Please choose an item you would like to order from the above list:  keychain\n"
     ]
    },
    {
     "name": "stdout",
     "output_type": "stream",
     "text": [
      "Thanks, we've added keychain to your order!\n"
     ]
    },
    {
     "name": "stdin",
     "output_type": "stream",
     "text": [
      "Would you like to order anything else? Type 'No' to exit:  no\n"
     ]
    },
    {
     "name": "stdout",
     "output_type": "stream",
     "text": [
      "Thanks for ordering with us! We'll get right onto it.\n"
     ]
    },
    {
     "name": "stdin",
     "output_type": "stream",
     "text": [
      "Enter the price of hat:  584\n",
      "Enter the price of book:  56\n",
      "Enter the price of keychain:  24\n"
     ]
    },
    {
     "name": "stdout",
     "output_type": "stream",
     "text": [
      "Final customer order: {'book', 'keychain'}\n",
      "Total value of order: 664\n"
     ]
    }
   ],
   "source": [
    "inventory = initialize_inventory(products)\n",
    "customer_order = get_customer_orders(inventory)\n",
    "total_sum = calculate_total_price(customer_order)\n",
    "print(\"Final customer order:\", customer_orders)\n",
    "print(\"Total value of order:\", total_sum)"
   ]
  },
  {
   "cell_type": "code",
   "execution_count": null,
   "id": "b6dd8465-98ae-499e-aa6e-4f49d0a5b90a",
   "metadata": {},
   "outputs": [],
   "source": []
  }
 ],
 "metadata": {
  "kernelspec": {
   "display_name": "Python 3 (ipykernel)",
   "language": "python",
   "name": "python3"
  },
  "language_info": {
   "codemirror_mode": {
    "name": "ipython",
    "version": 3
   },
   "file_extension": ".py",
   "mimetype": "text/x-python",
   "name": "python",
   "nbconvert_exporter": "python",
   "pygments_lexer": "ipython3",
   "version": "3.12.4"
  }
 },
 "nbformat": 4,
 "nbformat_minor": 5
}
